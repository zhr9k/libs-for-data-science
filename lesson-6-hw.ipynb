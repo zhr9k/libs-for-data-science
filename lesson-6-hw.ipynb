{
 "cells": [
  {
   "cell_type": "markdown",
   "metadata": {},
   "source": [
    "## Задание 1\n",
    "Импортируйте библиотеки pandas и numpy.\n",
    "Загрузите \"Boston House Prices dataset\" из встроенных наборов данных библиотеки sklearn.<br> \n",
    "\n",
    "\n",
    "\n"
   ]
  },
  {
   "cell_type": "markdown",
   "metadata": {},
   "source": [
    "### дисклеймер\n",
    "я немного упоролся с заданием и решил сначала графически посмотреть, как будут выглядеть средние/сигмы при стандартизации данных, а потом посмотреть как будет с метриками (r2, квадраты и абсолютные разности) при просто скейлинге, а потом если убирать колонки, которые вносят мало веса"
   ]
  },
  {
   "cell_type": "code",
   "execution_count": 1,
   "metadata": {},
   "outputs": [],
   "source": [
    "import numpy as np\n",
    "import pandas as pd\n",
    "import sklearn\n",
    "from sklearn.model_selection import train_test_split\n",
    "from sklearn.linear_model import LinearRegression\n",
    "from matplotlib import pyplot as plt\n",
    "from sklearn import datasets\n",
    "from sklearn import metrics\n",
    "from sklearn import preprocessing\n",
    "\n",
    "plt.rcParams['figure.figsize'] = 6, 4\n",
    "\n",
    "%matplotlib inline"
   ]
  },
  {
   "cell_type": "code",
   "execution_count": 2,
   "metadata": {},
   "outputs": [],
   "source": [
    "boston = datasets.load_boston()"
   ]
  },
  {
   "cell_type": "code",
   "execution_count": 3,
   "metadata": {},
   "outputs": [
    {
     "data": {
      "text/plain": [
       "dict_keys(['data', 'target', 'feature_names', 'DESCR', 'filename'])"
      ]
     },
     "execution_count": 3,
     "metadata": {},
     "output_type": "execute_result"
    }
   ],
   "source": [
    "boston.keys()"
   ]
  },
  {
   "cell_type": "code",
   "execution_count": 4,
   "metadata": {},
   "outputs": [],
   "source": [
    "data = boston['data']\n",
    "features = boston['feature_names']\n",
    "target = boston['target']"
   ]
  },
  {
   "cell_type": "markdown",
   "metadata": {},
   "source": [
    "Создайте датафреймы X и Y из этих данных.<br>"
   ]
  },
  {
   "cell_type": "code",
   "execution_count": 5,
   "metadata": {},
   "outputs": [],
   "source": [
    "X = pd.DataFrame(data, columns=features)"
   ]
  },
  {
   "cell_type": "code",
   "execution_count": 6,
   "metadata": {},
   "outputs": [
    {
     "data": {
      "text/html": [
       "<div>\n",
       "<style scoped>\n",
       "    .dataframe tbody tr th:only-of-type {\n",
       "        vertical-align: middle;\n",
       "    }\n",
       "\n",
       "    .dataframe tbody tr th {\n",
       "        vertical-align: top;\n",
       "    }\n",
       "\n",
       "    .dataframe thead th {\n",
       "        text-align: right;\n",
       "    }\n",
       "</style>\n",
       "<table border=\"1\" class=\"dataframe\">\n",
       "  <thead>\n",
       "    <tr style=\"text-align: right;\">\n",
       "      <th></th>\n",
       "      <th>CRIM</th>\n",
       "      <th>ZN</th>\n",
       "      <th>INDUS</th>\n",
       "      <th>CHAS</th>\n",
       "      <th>NOX</th>\n",
       "      <th>RM</th>\n",
       "      <th>AGE</th>\n",
       "      <th>DIS</th>\n",
       "      <th>RAD</th>\n",
       "      <th>TAX</th>\n",
       "      <th>PTRATIO</th>\n",
       "      <th>B</th>\n",
       "      <th>LSTAT</th>\n",
       "    </tr>\n",
       "  </thead>\n",
       "  <tbody>\n",
       "    <tr>\n",
       "      <th>0</th>\n",
       "      <td>0.00632</td>\n",
       "      <td>18.0</td>\n",
       "      <td>2.31</td>\n",
       "      <td>0.0</td>\n",
       "      <td>0.538</td>\n",
       "      <td>6.575</td>\n",
       "      <td>65.2</td>\n",
       "      <td>4.0900</td>\n",
       "      <td>1.0</td>\n",
       "      <td>296.0</td>\n",
       "      <td>15.3</td>\n",
       "      <td>396.90</td>\n",
       "      <td>4.98</td>\n",
       "    </tr>\n",
       "    <tr>\n",
       "      <th>1</th>\n",
       "      <td>0.02731</td>\n",
       "      <td>0.0</td>\n",
       "      <td>7.07</td>\n",
       "      <td>0.0</td>\n",
       "      <td>0.469</td>\n",
       "      <td>6.421</td>\n",
       "      <td>78.9</td>\n",
       "      <td>4.9671</td>\n",
       "      <td>2.0</td>\n",
       "      <td>242.0</td>\n",
       "      <td>17.8</td>\n",
       "      <td>396.90</td>\n",
       "      <td>9.14</td>\n",
       "    </tr>\n",
       "    <tr>\n",
       "      <th>2</th>\n",
       "      <td>0.02729</td>\n",
       "      <td>0.0</td>\n",
       "      <td>7.07</td>\n",
       "      <td>0.0</td>\n",
       "      <td>0.469</td>\n",
       "      <td>7.185</td>\n",
       "      <td>61.1</td>\n",
       "      <td>4.9671</td>\n",
       "      <td>2.0</td>\n",
       "      <td>242.0</td>\n",
       "      <td>17.8</td>\n",
       "      <td>392.83</td>\n",
       "      <td>4.03</td>\n",
       "    </tr>\n",
       "    <tr>\n",
       "      <th>3</th>\n",
       "      <td>0.03237</td>\n",
       "      <td>0.0</td>\n",
       "      <td>2.18</td>\n",
       "      <td>0.0</td>\n",
       "      <td>0.458</td>\n",
       "      <td>6.998</td>\n",
       "      <td>45.8</td>\n",
       "      <td>6.0622</td>\n",
       "      <td>3.0</td>\n",
       "      <td>222.0</td>\n",
       "      <td>18.7</td>\n",
       "      <td>394.63</td>\n",
       "      <td>2.94</td>\n",
       "    </tr>\n",
       "    <tr>\n",
       "      <th>4</th>\n",
       "      <td>0.06905</td>\n",
       "      <td>0.0</td>\n",
       "      <td>2.18</td>\n",
       "      <td>0.0</td>\n",
       "      <td>0.458</td>\n",
       "      <td>7.147</td>\n",
       "      <td>54.2</td>\n",
       "      <td>6.0622</td>\n",
       "      <td>3.0</td>\n",
       "      <td>222.0</td>\n",
       "      <td>18.7</td>\n",
       "      <td>396.90</td>\n",
       "      <td>5.33</td>\n",
       "    </tr>\n",
       "  </tbody>\n",
       "</table>\n",
       "</div>"
      ],
      "text/plain": [
       "      CRIM    ZN  INDUS  CHAS    NOX     RM   AGE     DIS  RAD    TAX  \\\n",
       "0  0.00632  18.0   2.31   0.0  0.538  6.575  65.2  4.0900  1.0  296.0   \n",
       "1  0.02731   0.0   7.07   0.0  0.469  6.421  78.9  4.9671  2.0  242.0   \n",
       "2  0.02729   0.0   7.07   0.0  0.469  7.185  61.1  4.9671  2.0  242.0   \n",
       "3  0.03237   0.0   2.18   0.0  0.458  6.998  45.8  6.0622  3.0  222.0   \n",
       "4  0.06905   0.0   2.18   0.0  0.458  7.147  54.2  6.0622  3.0  222.0   \n",
       "\n",
       "   PTRATIO       B  LSTAT  \n",
       "0     15.3  396.90   4.98  \n",
       "1     17.8  396.90   9.14  \n",
       "2     17.8  392.83   4.03  \n",
       "3     18.7  394.63   2.94  \n",
       "4     18.7  396.90   5.33  "
      ]
     },
     "execution_count": 6,
     "metadata": {},
     "output_type": "execute_result"
    }
   ],
   "source": [
    "X.head()"
   ]
  },
  {
   "cell_type": "code",
   "execution_count": 7,
   "metadata": {},
   "outputs": [
    {
     "data": {
      "text/html": [
       "<div>\n",
       "<style scoped>\n",
       "    .dataframe tbody tr th:only-of-type {\n",
       "        vertical-align: middle;\n",
       "    }\n",
       "\n",
       "    .dataframe tbody tr th {\n",
       "        vertical-align: top;\n",
       "    }\n",
       "\n",
       "    .dataframe thead th {\n",
       "        text-align: right;\n",
       "    }\n",
       "</style>\n",
       "<table border=\"1\" class=\"dataframe\">\n",
       "  <thead>\n",
       "    <tr style=\"text-align: right;\">\n",
       "      <th></th>\n",
       "      <th>price</th>\n",
       "    </tr>\n",
       "  </thead>\n",
       "  <tbody>\n",
       "    <tr>\n",
       "      <th>0</th>\n",
       "      <td>24.0</td>\n",
       "    </tr>\n",
       "    <tr>\n",
       "      <th>1</th>\n",
       "      <td>21.6</td>\n",
       "    </tr>\n",
       "    <tr>\n",
       "      <th>2</th>\n",
       "      <td>34.7</td>\n",
       "    </tr>\n",
       "    <tr>\n",
       "      <th>3</th>\n",
       "      <td>33.4</td>\n",
       "    </tr>\n",
       "    <tr>\n",
       "      <th>4</th>\n",
       "      <td>36.2</td>\n",
       "    </tr>\n",
       "  </tbody>\n",
       "</table>\n",
       "</div>"
      ],
      "text/plain": [
       "   price\n",
       "0   24.0\n",
       "1   21.6\n",
       "2   34.7\n",
       "3   33.4\n",
       "4   36.2"
      ]
     },
     "execution_count": 7,
     "metadata": {},
     "output_type": "execute_result"
    }
   ],
   "source": [
    "Y = pd.DataFrame(target, columns=['price'])\n",
    "Y.head()"
   ]
  },
  {
   "cell_type": "markdown",
   "metadata": {},
   "source": [
    "Разбейте эти датафреймы н а тренировочные (X_train, y_train) и тестовые (X_test, y_test) с помощью функции train_test_split <br>так, чтобы размер тестовой выборки\n",
    "составлял 30% от всех данных, при этом аргумент random_state должен быть равен 42.<br>"
   ]
  },
  {
   "cell_type": "code",
   "execution_count": 8,
   "metadata": {},
   "outputs": [],
   "source": [
    "X_train, X_test, y_train, y_test = train_test_split(X, Y, test_size=0.3, random_state=42)"
   ]
  },
  {
   "cell_type": "code",
   "execution_count": 9,
   "metadata": {},
   "outputs": [
    {
     "name": "stdout",
     "output_type": "stream",
     "text": [
      "(354, 13) \n",
      " (152, 13)\n"
     ]
    }
   ],
   "source": [
    "print(X_train.shape,'\\n',X_test.shape)\n"
   ]
  },
  {
   "cell_type": "markdown",
   "metadata": {},
   "source": [
    "Создайте модель линейной регрессии под названием lr с помощью класса LinearRegression из модуля sklearn.linear_model.<br>"
   ]
  },
  {
   "cell_type": "code",
   "execution_count": 10,
   "metadata": {},
   "outputs": [],
   "source": [
    "lr = LinearRegression()"
   ]
  },
  {
   "cell_type": "markdown",
   "metadata": {},
   "source": [
    "Обучите модель на тренировочных данных (используйте все признаки) и сделайте предсказание на тестовых.<br>"
   ]
  },
  {
   "cell_type": "code",
   "execution_count": 11,
   "metadata": {},
   "outputs": [
    {
     "data": {
      "text/plain": [
       "LinearRegression()"
      ]
     },
     "execution_count": 11,
     "metadata": {},
     "output_type": "execute_result"
    }
   ],
   "source": [
    "lr.fit(X_train, y_train)"
   ]
  },
  {
   "cell_type": "markdown",
   "metadata": {},
   "source": [
    "посмотрим коэффициенты $w_{i}$"
   ]
  },
  {
   "cell_type": "code",
   "execution_count": 12,
   "metadata": {},
   "outputs": [
    {
     "name": "stdout",
     "output_type": "stream",
     "text": [
      "[31.63108404] \n",
      " [[-1.33470103e-01  3.58089136e-02  4.95226452e-02  3.11983512e+00\n",
      "  -1.54170609e+01  4.05719923e+00 -1.08208352e-02 -1.38599824e+00\n",
      "   2.42727340e-01 -8.70223437e-03 -9.10685208e-01  1.17941159e-02\n",
      "  -5.47113313e-01]]\n"
     ]
    }
   ],
   "source": [
    "print(lr.intercept_, '\\n',lr.coef_ )"
   ]
  },
  {
   "cell_type": "code",
   "execution_count": 15,
   "metadata": {},
   "outputs": [
    {
     "data": {
      "image/png": "[encoded data removed]",
      "text/plain": [
       "<Figure size 432x288 with 1 Axes>"
      ]
     },
     "metadata": {
      "needs_background": "light"
     },
     "output_type": "display_data"
    }
   ],
   "source": [
    "plt.barh(features, lr.coef_.flatten())\n",
    "plt.xlabel('weight')\n",
    "plt.ylabel('feature')\n",
    "plt.show()"
   ]
  },
  {
   "cell_type": "code",
   "execution_count": 13,
   "metadata": {},
   "outputs": [],
   "source": [
    "y_pred = lr.predict(X_test)"
   ]
  },
  {
   "cell_type": "markdown",
   "metadata": {},
   "source": [
    "Вычислите $R^{2}$ полученных предказаний с помощью r2_score из модуля sklearn.metrics.<br>"
   ]
  },
  {
   "cell_type": "code",
   "execution_count": 14,
   "metadata": {},
   "outputs": [
    {
     "name": "stdout",
     "output_type": "stream",
     "text": [
      " R2: 0.7112260057484943\n",
      " mse: 21.517444231177134\n",
      " abs: 3.1627098714573902\n"
     ]
    }
   ],
   "source": [
    "r2_raw = metrics.r2_score(y_test, y_pred)\n",
    "mse_raw = metrics.mean_squared_error(y_test, y_pred)\n",
    "abs_raw = metrics.mean_absolute_error(y_test, y_pred)\n",
    "print(f\" R2: {r2_raw}\\n mse: {mse_raw}\\n abs: {abs_raw}\")"
   ]
  },
  {
   "cell_type": "code",
   "execution_count": 50,
   "metadata": {},
   "outputs": [
    {
     "data": {
      "text/plain": [
       "Text(0, 0.5, 'real values')"
      ]
     },
     "execution_count": 50,
     "metadata": {},
     "output_type": "execute_result"
    },
    {
     "data": {
      "image/png": "[encoded data removed]",
      "text/plain": [
       "<Figure size 432x288 with 1 Axes>"
      ]
     },
     "metadata": {
      "needs_background": "light"
     },
     "output_type": "display_data"
    }
   ],
   "source": [
    "plt.scatter(y_pred, y_test)\n",
    "plt.plot([0, 50], [0, 50], linestyle='--', color='black')\n",
    "plt.xlabel('predicted values')\n",
    "plt.ylabel('real values')"
   ]
  },
  {
   "cell_type": "markdown",
   "metadata": {},
   "source": [
    "Тут вот сверху еще график рассеивания значений реальных/предсказанных. и основное задание кончилось, но мне стало интересно, как поменяется качество модели, если данные отмасштабировать (среднее в нуль устремить, а среднеквадратичное отклонение - к единице, как это было сделано в видеоуроке)"
   ]
  },
  {
   "cell_type": "markdown",
   "metadata": {},
   "source": [
    "скейлим"
   ]
  },
  {
   "cell_type": "code",
   "execution_count": 16,
   "metadata": {},
   "outputs": [],
   "source": [
    "scaler_std = preprocessing.StandardScaler()"
   ]
  },
  {
   "cell_type": "code",
   "execution_count": 17,
   "metadata": {},
   "outputs": [
    {
     "data": {
      "text/html": [
       "<div>\n",
       "<style scoped>\n",
       "    .dataframe tbody tr th:only-of-type {\n",
       "        vertical-align: middle;\n",
       "    }\n",
       "\n",
       "    .dataframe tbody tr th {\n",
       "        vertical-align: top;\n",
       "    }\n",
       "\n",
       "    .dataframe thead th {\n",
       "        text-align: right;\n",
       "    }\n",
       "</style>\n",
       "<table border=\"1\" class=\"dataframe\">\n",
       "  <thead>\n",
       "    <tr style=\"text-align: right;\">\n",
       "      <th></th>\n",
       "      <th>CRIM</th>\n",
       "      <th>ZN</th>\n",
       "      <th>INDUS</th>\n",
       "      <th>CHAS</th>\n",
       "      <th>NOX</th>\n",
       "      <th>RM</th>\n",
       "      <th>AGE</th>\n",
       "      <th>DIS</th>\n",
       "      <th>RAD</th>\n",
       "      <th>TAX</th>\n",
       "      <th>PTRATIO</th>\n",
       "      <th>B</th>\n",
       "      <th>LSTAT</th>\n",
       "    </tr>\n",
       "  </thead>\n",
       "  <tbody>\n",
       "    <tr>\n",
       "      <th>count</th>\n",
       "      <td>3.540000e+02</td>\n",
       "      <td>3.540000e+02</td>\n",
       "      <td>3.540000e+02</td>\n",
       "      <td>3.540000e+02</td>\n",
       "      <td>3.540000e+02</td>\n",
       "      <td>3.540000e+02</td>\n",
       "      <td>3.540000e+02</td>\n",
       "      <td>3.540000e+02</td>\n",
       "      <td>3.540000e+02</td>\n",
       "      <td>3.540000e+02</td>\n",
       "      <td>3.540000e+02</td>\n",
       "      <td>3.540000e+02</td>\n",
       "      <td>3.540000e+02</td>\n",
       "    </tr>\n",
       "    <tr>\n",
       "      <th>mean</th>\n",
       "      <td>-1.262330e-16</td>\n",
       "      <td>-4.829784e-17</td>\n",
       "      <td>3.724736e-15</td>\n",
       "      <td>-6.680155e-17</td>\n",
       "      <td>-5.443229e-15</td>\n",
       "      <td>-1.594064e-15</td>\n",
       "      <td>-6.962416e-17</td>\n",
       "      <td>-2.244595e-15</td>\n",
       "      <td>-8.185543e-17</td>\n",
       "      <td>-1.890359e-16</td>\n",
       "      <td>1.728498e-14</td>\n",
       "      <td>8.116546e-15</td>\n",
       "      <td>-7.533208e-16</td>\n",
       "    </tr>\n",
       "    <tr>\n",
       "      <th>std</th>\n",
       "      <td>1.001415e+00</td>\n",
       "      <td>1.001415e+00</td>\n",
       "      <td>1.001415e+00</td>\n",
       "      <td>1.001415e+00</td>\n",
       "      <td>1.001415e+00</td>\n",
       "      <td>1.001415e+00</td>\n",
       "      <td>1.001415e+00</td>\n",
       "      <td>1.001415e+00</td>\n",
       "      <td>1.001415e+00</td>\n",
       "      <td>1.001415e+00</td>\n",
       "      <td>1.001415e+00</td>\n",
       "      <td>1.001415e+00</td>\n",
       "      <td>1.001415e+00</td>\n",
       "    </tr>\n",
       "    <tr>\n",
       "      <th>min</th>\n",
       "      <td>-4.167624e-01</td>\n",
       "      <td>-5.051250e-01</td>\n",
       "      <td>-1.432137e+00</td>\n",
       "      <td>-2.815463e-01</td>\n",
       "      <td>-1.477013e+00</td>\n",
       "      <td>-3.428977e+00</td>\n",
       "      <td>-2.385402e+00</td>\n",
       "      <td>-1.241753e+00</td>\n",
       "      <td>-9.779889e-01</td>\n",
       "      <td>-1.323270e+00</td>\n",
       "      <td>-2.519507e+00</td>\n",
       "      <td>-4.140252e+00</td>\n",
       "      <td>-1.505295e+00</td>\n",
       "    </tr>\n",
       "    <tr>\n",
       "      <th>25%</th>\n",
       "      <td>-4.079402e-01</td>\n",
       "      <td>-5.051250e-01</td>\n",
       "      <td>-8.663857e-01</td>\n",
       "      <td>-2.815463e-01</td>\n",
       "      <td>-9.196796e-01</td>\n",
       "      <td>-6.073179e-01</td>\n",
       "      <td>-8.243866e-01</td>\n",
       "      <td>-7.970573e-01</td>\n",
       "      <td>-6.302741e-01</td>\n",
       "      <td>-7.700089e-01</td>\n",
       "      <td>-7.223839e-01</td>\n",
       "      <td>1.967778e-01</td>\n",
       "      <td>-7.826466e-01</td>\n",
       "    </tr>\n",
       "    <tr>\n",
       "      <th>50%</th>\n",
       "      <td>-3.869638e-01</td>\n",
       "      <td>-5.051250e-01</td>\n",
       "      <td>-2.082672e-01</td>\n",
       "      <td>-2.815463e-01</td>\n",
       "      <td>-1.651363e-01</td>\n",
       "      <td>-1.366932e-01</td>\n",
       "      <td>3.094984e-01</td>\n",
       "      <td>-3.102052e-01</td>\n",
       "      <td>-5.143691e-01</td>\n",
       "      <td>-4.633100e-01</td>\n",
       "      <td>1.428974e-01</td>\n",
       "      <td>3.674826e-01</td>\n",
       "      <td>-2.106528e-01</td>\n",
       "    </tr>\n",
       "    <tr>\n",
       "      <th>75%</th>\n",
       "      <td>-2.266349e-02</td>\n",
       "      <td>3.807519e-01</td>\n",
       "      <td>1.005500e+00</td>\n",
       "      <td>-2.815463e-01</td>\n",
       "      <td>6.322788e-01</td>\n",
       "      <td>4.957956e-01</td>\n",
       "      <td>8.931822e-01</td>\n",
       "      <td>7.700449e-01</td>\n",
       "      <td>1.687825e+00</td>\n",
       "      <td>1.557294e+00</td>\n",
       "      <td>8.528718e-01</td>\n",
       "      <td>4.201600e-01</td>\n",
       "      <td>5.355791e-01</td>\n",
       "    </tr>\n",
       "    <tr>\n",
       "      <th>max</th>\n",
       "      <td>1.029691e+01</td>\n",
       "      <td>3.702790e+00</td>\n",
       "      <td>2.396785e+00</td>\n",
       "      <td>3.551814e+00</td>\n",
       "      <td>2.690124e+00</td>\n",
       "      <td>3.417358e+00</td>\n",
       "      <td>1.129371e+00</td>\n",
       "      <td>3.938069e+00</td>\n",
       "      <td>1.687825e+00</td>\n",
       "      <td>1.827911e+00</td>\n",
       "      <td>1.651593e+00</td>\n",
       "      <td>4.285411e-01</td>\n",
       "      <td>3.597242e+00</td>\n",
       "    </tr>\n",
       "  </tbody>\n",
       "</table>\n",
       "</div>"
      ],
      "text/plain": [
       "               CRIM            ZN         INDUS          CHAS           NOX  \\\n",
       "count  3.540000e+02  3.540000e+02  3.540000e+02  3.540000e+02  3.540000e+02   \n",
       "mean  -1.262330e-16 -4.829784e-17  3.724736e-15 -6.680155e-17 -5.443229e-15   \n",
       "std    1.001415e+00  1.001415e+00  1.001415e+00  1.001415e+00  1.001415e+00   \n",
       "min   -4.167624e-01 -5.051250e-01 -1.432137e+00 -2.815463e-01 -1.477013e+00   \n",
       "25%   -4.079402e-01 -5.051250e-01 -8.663857e-01 -2.815463e-01 -9.196796e-01   \n",
       "50%   -3.869638e-01 -5.051250e-01 -2.082672e-01 -2.815463e-01 -1.651363e-01   \n",
       "75%   -2.266349e-02  3.807519e-01  1.005500e+00 -2.815463e-01  6.322788e-01   \n",
       "max    1.029691e+01  3.702790e+00  2.396785e+00  3.551814e+00  2.690124e+00   \n",
       "\n",
       "                 RM           AGE           DIS           RAD           TAX  \\\n",
       "count  3.540000e+02  3.540000e+02  3.540000e+02  3.540000e+02  3.540000e+02   \n",
       "mean  -1.594064e-15 -6.962416e-17 -2.244595e-15 -8.185543e-17 -1.890359e-16   \n",
       "std    1.001415e+00  1.001415e+00  1.001415e+00  1.001415e+00  1.001415e+00   \n",
       "min   -3.428977e+00 -2.385402e+00 -1.241753e+00 -9.779889e-01 -1.323270e+00   \n",
       "25%   -6.073179e-01 -8.243866e-01 -7.970573e-01 -6.302741e-01 -7.700089e-01   \n",
       "50%   -1.366932e-01  3.094984e-01 -3.102052e-01 -5.143691e-01 -4.633100e-01   \n",
       "75%    4.957956e-01  8.931822e-01  7.700449e-01  1.687825e+00  1.557294e+00   \n",
       "max    3.417358e+00  1.129371e+00  3.938069e+00  1.687825e+00  1.827911e+00   \n",
       "\n",
       "            PTRATIO             B         LSTAT  \n",
       "count  3.540000e+02  3.540000e+02  3.540000e+02  \n",
       "mean   1.728498e-14  8.116546e-15 -7.533208e-16  \n",
       "std    1.001415e+00  1.001415e+00  1.001415e+00  \n",
       "min   -2.519507e+00 -4.140252e+00 -1.505295e+00  \n",
       "25%   -7.223839e-01  1.967778e-01 -7.826466e-01  \n",
       "50%    1.428974e-01  3.674826e-01 -2.106528e-01  \n",
       "75%    8.528718e-01  4.201600e-01  5.355791e-01  \n",
       "max    1.651593e+00  4.285411e-01  3.597242e+00  "
      ]
     },
     "execution_count": 17,
     "metadata": {},
     "output_type": "execute_result"
    }
   ],
   "source": [
    "X_train_scaled = scaler_std.fit_transform(X_train)\n",
    "X_train_scaled = pd.DataFrame(X_train_scaled, columns=features)\n",
    "X_train_scaled.describe()"
   ]
  },
  {
   "cell_type": "markdown",
   "metadata": {},
   "source": [
    "Я немного упоролся с графиками. Стало интересно, чтобы наглядно сделать, как среднее и сигма меняются при скейлинге.<br> Причем, среднее так себя ведет, что если пихнуть на один график и начальное и скейленное среднее, то из-за очень маленьких отрицательных значений среднего, они не видны, поэтому я сделал два отдельных графика для среднего"
   ]
  },
  {
   "cell_type": "code",
   "execution_count": 18,
   "metadata": {},
   "outputs": [],
   "source": [
    "scaled_graph = X_train_scaled.describe().T[['std', 'mean']]\n",
    "X_train_T = X_train.describe().T[['std', 'mean']]"
   ]
  },
  {
   "cell_type": "code",
   "execution_count": 19,
   "metadata": {},
   "outputs": [
    {
     "data": {
      "image/png": "[encoded data removed]",
      "text/plain": [
       "<Figure size 1080x288 with 3 Axes>"
      ]
     },
     "metadata": {
      "needs_background": "light"
     },
     "output_type": "display_data"
    }
   ],
   "source": [
    "plt.figure(figsize=(15, 4))\n",
    "\n",
    "plt.subplot(131)\n",
    "X_train_T['std'].plot(kind=\"bar\", color='grey', alpha=0.5, logy=True)\n",
    "scaled_graph['std'].plot(kind='bar', color='red', alpha=0.3, logy=True)\n",
    "plt.xlabel(\"std\")\n",
    "plt.ylabel(\"values\")\n",
    "\n",
    "plt.subplot(132)\n",
    "scaled_graph['mean'].plot(kind='bar', color='red', alpha=0.7)\n",
    "plt.xlabel('mean')\n",
    "plt.ylabel(\"values\")\n",
    "\n",
    "plt.subplot(133)\n",
    "X_train_T['mean'].plot(kind=\"bar\", color='grey', alpha=0.3)\n",
    "plt.xlabel('raw mean')\n",
    "plt.ylabel(\"values\")\n",
    "\n",
    "plt.show()"
   ]
  },
  {
   "cell_type": "code",
   "execution_count": 20,
   "metadata": {},
   "outputs": [],
   "source": [
    "X_test_scaled = scaler_std.transform(X_test)\n",
    "X_test_scaled = pd.DataFrame(X_test_scaled, columns=features)"
   ]
  },
  {
   "cell_type": "code",
   "execution_count": 21,
   "metadata": {},
   "outputs": [
    {
     "data": {
      "text/html": [
       "<div>\n",
       "<style scoped>\n",
       "    .dataframe tbody tr th:only-of-type {\n",
       "        vertical-align: middle;\n",
       "    }\n",
       "\n",
       "    .dataframe tbody tr th {\n",
       "        vertical-align: top;\n",
       "    }\n",
       "\n",
       "    .dataframe thead th {\n",
       "        text-align: right;\n",
       "    }\n",
       "</style>\n",
       "<table border=\"1\" class=\"dataframe\">\n",
       "  <thead>\n",
       "    <tr style=\"text-align: right;\">\n",
       "      <th></th>\n",
       "      <th>CRIM</th>\n",
       "      <th>ZN</th>\n",
       "      <th>INDUS</th>\n",
       "      <th>CHAS</th>\n",
       "      <th>NOX</th>\n",
       "      <th>RM</th>\n",
       "      <th>AGE</th>\n",
       "      <th>DIS</th>\n",
       "      <th>RAD</th>\n",
       "      <th>TAX</th>\n",
       "      <th>PTRATIO</th>\n",
       "      <th>B</th>\n",
       "      <th>LSTAT</th>\n",
       "    </tr>\n",
       "  </thead>\n",
       "  <tbody>\n",
       "    <tr>\n",
       "      <th>count</th>\n",
       "      <td>152.000000</td>\n",
       "      <td>152.000000</td>\n",
       "      <td>152.000000</td>\n",
       "      <td>152.000000</td>\n",
       "      <td>152.000000</td>\n",
       "      <td>152.000000</td>\n",
       "      <td>152.000000</td>\n",
       "      <td>152.000000</td>\n",
       "      <td>152.000000</td>\n",
       "      <td>152.000000</td>\n",
       "      <td>152.000000</td>\n",
       "      <td>152.000000</td>\n",
       "      <td>152.000000</td>\n",
       "    </tr>\n",
       "    <tr>\n",
       "      <th>mean</th>\n",
       "      <td>0.057581</td>\n",
       "      <td>-0.005945</td>\n",
       "      <td>0.001791</td>\n",
       "      <td>-0.054571</td>\n",
       "      <td>-0.073193</td>\n",
       "      <td>-0.190217</td>\n",
       "      <td>-0.027090</td>\n",
       "      <td>0.045737</td>\n",
       "      <td>0.043042</td>\n",
       "      <td>0.023919</td>\n",
       "      <td>0.262297</td>\n",
       "      <td>-0.116118</td>\n",
       "      <td>0.108710</td>\n",
       "    </tr>\n",
       "    <tr>\n",
       "      <th>std</th>\n",
       "      <td>1.114253</td>\n",
       "      <td>1.106630</td>\n",
       "      <td>0.966544</td>\n",
       "      <td>0.907734</td>\n",
       "      <td>0.976422</td>\n",
       "      <td>0.911601</td>\n",
       "      <td>1.061702</td>\n",
       "      <td>0.971695</td>\n",
       "      <td>1.029860</td>\n",
       "      <td>1.044377</td>\n",
       "      <td>0.832820</td>\n",
       "      <td>1.160034</td>\n",
       "      <td>1.014019</td>\n",
       "    </tr>\n",
       "    <tr>\n",
       "      <th>min</th>\n",
       "      <td>-0.417092</td>\n",
       "      <td>-0.505125</td>\n",
       "      <td>-1.540380</td>\n",
       "      <td>-0.281546</td>\n",
       "      <td>-1.416992</td>\n",
       "      <td>-3.849476</td>\n",
       "      <td>-2.265950</td>\n",
       "      <td>-1.223147</td>\n",
       "      <td>-0.977989</td>\n",
       "      <td>-1.317256</td>\n",
       "      <td>-2.342013</td>\n",
       "      <td>-4.114907</td>\n",
       "      <td>-1.343377</td>\n",
       "    </tr>\n",
       "    <tr>\n",
       "      <th>25%</th>\n",
       "      <td>-0.408255</td>\n",
       "      <td>-0.505125</td>\n",
       "      <td>-0.785203</td>\n",
       "      <td>-0.281546</td>\n",
       "      <td>-0.930398</td>\n",
       "      <td>-0.630640</td>\n",
       "      <td>-1.053336</td>\n",
       "      <td>-0.729677</td>\n",
       "      <td>-0.630274</td>\n",
       "      <td>-0.763995</td>\n",
       "      <td>-0.212090</td>\n",
       "      <td>0.120311</td>\n",
       "      <td>-0.695352</td>\n",
       "    </tr>\n",
       "    <tr>\n",
       "      <th>50%</th>\n",
       "      <td>-0.388586</td>\n",
       "      <td>-0.505125</td>\n",
       "      <td>-0.208267</td>\n",
       "      <td>-0.281546</td>\n",
       "      <td>-0.216582</td>\n",
       "      <td>-0.231375</td>\n",
       "      <td>0.351125</td>\n",
       "      <td>-0.085220</td>\n",
       "      <td>-0.514369</td>\n",
       "      <td>-0.463310</td>\n",
       "      <td>0.409138</td>\n",
       "      <td>0.359764</td>\n",
       "      <td>-0.056478</td>\n",
       "    </tr>\n",
       "    <tr>\n",
       "      <th>75%</th>\n",
       "      <td>0.108052</td>\n",
       "      <td>-0.505125</td>\n",
       "      <td>1.005500</td>\n",
       "      <td>-0.281546</td>\n",
       "      <td>0.486515</td>\n",
       "      <td>0.191909</td>\n",
       "      <td>0.948383</td>\n",
       "      <td>0.598109</td>\n",
       "      <td>1.687825</td>\n",
       "      <td>1.557294</td>\n",
       "      <td>0.852872</td>\n",
       "      <td>0.421715</td>\n",
       "      <td>0.738329</td>\n",
       "    </tr>\n",
       "    <tr>\n",
       "      <th>max</th>\n",
       "      <td>8.437327</td>\n",
       "      <td>3.924259</td>\n",
       "      <td>2.396785</td>\n",
       "      <td>3.551814</td>\n",
       "      <td>2.690124</td>\n",
       "      <td>3.340777</td>\n",
       "      <td>1.129371</td>\n",
       "      <td>3.271002</td>\n",
       "      <td>1.687825</td>\n",
       "      <td>1.827911</td>\n",
       "      <td>1.651593</td>\n",
       "      <td>0.428541</td>\n",
       "      <td>3.457851</td>\n",
       "    </tr>\n",
       "  </tbody>\n",
       "</table>\n",
       "</div>"
      ],
      "text/plain": [
       "             CRIM          ZN       INDUS        CHAS         NOX          RM  \\\n",
       "count  152.000000  152.000000  152.000000  152.000000  152.000000  152.000000   \n",
       "mean     0.057581   -0.005945    0.001791   -0.054571   -0.073193   -0.190217   \n",
       "std      1.114253    1.106630    0.966544    0.907734    0.976422    0.911601   \n",
       "min     -0.417092   -0.505125   -1.540380   -0.281546   -1.416992   -3.849476   \n",
       "25%     -0.408255   -0.505125   -0.785203   -0.281546   -0.930398   -0.630640   \n",
       "50%     -0.388586   -0.505125   -0.208267   -0.281546   -0.216582   -0.231375   \n",
       "75%      0.108052   -0.505125    1.005500   -0.281546    0.486515    0.191909   \n",
       "max      8.437327    3.924259    2.396785    3.551814    2.690124    3.340777   \n",
       "\n",
       "              AGE         DIS         RAD         TAX     PTRATIO           B  \\\n",
       "count  152.000000  152.000000  152.000000  152.000000  152.000000  152.000000   \n",
       "mean    -0.027090    0.045737    0.043042    0.023919    0.262297   -0.116118   \n",
       "std      1.061702    0.971695    1.029860    1.044377    0.832820    1.160034   \n",
       "min     -2.265950   -1.223147   -0.977989   -1.317256   -2.342013   -4.114907   \n",
       "25%     -1.053336   -0.729677   -0.630274   -0.763995   -0.212090    0.120311   \n",
       "50%      0.351125   -0.085220   -0.514369   -0.463310    0.409138    0.359764   \n",
       "75%      0.948383    0.598109    1.687825    1.557294    0.852872    0.421715   \n",
       "max      1.129371    3.271002    1.687825    1.827911    1.651593    0.428541   \n",
       "\n",
       "            LSTAT  \n",
       "count  152.000000  \n",
       "mean     0.108710  \n",
       "std      1.014019  \n",
       "min     -1.343377  \n",
       "25%     -0.695352  \n",
       "50%     -0.056478  \n",
       "75%      0.738329  \n",
       "max      3.457851  "
      ]
     },
     "execution_count": 21,
     "metadata": {},
     "output_type": "execute_result"
    }
   ],
   "source": [
    "X_test_scaled.describe()"
   ]
  },
  {
   "cell_type": "markdown",
   "metadata": {},
   "source": [
    "Теперь посмотрим, как влияет просто масштабирование данных на качество предсказания при линейной регрессии (без отсекания фичей маловесных)"
   ]
  },
  {
   "cell_type": "code",
   "execution_count": 22,
   "metadata": {},
   "outputs": [
    {
     "data": {
      "image/png": "[encoded data removed]",
      "text/plain": [
       "<Figure size 432x288 with 1 Axes>"
      ]
     },
     "metadata": {
      "needs_background": "light"
     },
     "output_type": "display_data"
    }
   ],
   "source": [
    "lr.fit(X_train_scaled, y_train)\n",
    "\n",
    "plt.barh(features, lr.coef_.flatten())\n",
    "plt.xlabel('weight')\n",
    "plt.ylabel('feature')\n",
    "plt.show()"
   ]
  },
  {
   "cell_type": "code",
   "execution_count": 23,
   "metadata": {},
   "outputs": [],
   "source": [
    "y_pred_after_scale = lr.predict(X_test_scaled)"
   ]
  },
  {
   "cell_type": "code",
   "execution_count": 24,
   "metadata": {},
   "outputs": [
    {
     "name": "stdout",
     "output_type": "stream",
     "text": [
      " R2: 0.7112260057484932 was 0.7112260057484943\n",
      " mse: 21.51744423117721 was 21.517444231177134\n",
      " abs: 3.1627098714574053 was 3.1627098714573902\n"
     ]
    }
   ],
   "source": [
    "r2_scaled = metrics.r2_score(y_test, y_pred_after_scale)\n",
    "mse_scaled = metrics.mean_squared_error(y_test, y_pred_after_scale)\n",
    "abs_scaled = metrics.mean_absolute_error(y_test, y_pred_after_scale)\n",
    "\n",
    "print(f\" R2: {r2_scaled} was {r2_raw}\\n mse: {mse_scaled} was {mse_raw}\\n abs: {abs_scaled} was {abs_raw}\")"
   ]
  },
  {
   "cell_type": "markdown",
   "metadata": {},
   "source": [
    "Очевидно, что никак"
   ]
  },
  {
   "cell_type": "markdown",
   "metadata": {},
   "source": [
    "А теперь отсортируем фичи по возрастанию их весов в линейной регрессии"
   ]
  },
  {
   "cell_type": "code",
   "execution_count": 25,
   "metadata": {},
   "outputs": [],
   "source": [
    "feature_weight = dict(zip(features, abs(lr.coef_.flatten())))"
   ]
  },
  {
   "cell_type": "code",
   "execution_count": 26,
   "metadata": {},
   "outputs": [
    {
     "data": {
      "text/plain": [
       "{'AGE': 0.2989391755039225,\n",
       " 'INDUS': 0.3431346557047966,\n",
       " 'ZN': 0.8084399775400768,\n",
       " 'CHAS': 0.813864257388578,\n",
       " 'B': 1.0237518746405985,\n",
       " 'CRIM': 1.1083460154177533,\n",
       " 'TAX': 1.4470673128119897,\n",
       " 'NOX': 1.7980429490588974,\n",
       " 'PTRATIO': 2.052322324086821,\n",
       " 'RAD': 2.0941930300437583,\n",
       " 'RM': 2.913857995549769,\n",
       " 'DIS': 2.942511476980692}"
      ]
     },
     "execution_count": 26,
     "metadata": {},
     "output_type": "execute_result"
    }
   ],
   "source": [
    "feature_weight = dict(sorted(feature_weight.items(), key=lambda item: item[1]))\n",
    "feature_weight.pop('LSTAT')\n",
    "feature_weight"
   ]
  },
  {
   "cell_type": "markdown",
   "metadata": {},
   "source": [
    "А теперь будем убирать по одной фиче и смотреть, как будут меняться метрики"
   ]
  },
  {
   "cell_type": "code",
   "execution_count": 27,
   "metadata": {},
   "outputs": [
    {
     "name": "stdout",
     "output_type": "stream",
     "text": [
      "AGE\n",
      "r2: 0.7138676903216832, mse: 21.32060413611495, ame: 3.1291133750431457\n",
      "INDUS\n",
      "r2: 0.7149039348907364, mse: 21.2433903455094, ame: 3.113787289886371\n",
      "ZN\n",
      "r2: 0.7015003386944134, mse: 22.242133789839112, ame: 3.1968689403058326\n",
      "CHAS\n",
      "r2: 0.7001481595606636, mse: 22.34288884285709, ame: 3.2341202800915103\n",
      "B\n",
      "r2: 0.7082844781828799, mse: 21.736626555789268, ame: 3.261573132853956\n",
      "CRIM\n",
      "r2: 0.7108604374224152, mse: 21.544683858794848, ame: 3.216827953507758\n",
      "TAX\n",
      "r2: 0.6981554117912063, mse: 22.491374647845312, ame: 3.3061402905161827\n",
      "NOX\n",
      "r2: 0.6613625989838843, mse: 25.232921024767936, ame: 3.469332478227639\n",
      "PTRATIO\n",
      "r2: 0.6135581438114517, mse: 28.794978961601224, ame: 3.933596807426078\n",
      "RAD\n",
      "r2: 0.6060897200518729, mse: 29.35147433494005, ame: 4.000208847061039\n",
      "RM\n",
      "r2: 0.5128403996698898, mse: 36.29976985620141, ame: 4.6666490054067005\n",
      "DIS\n",
      "r2: 0.4886979007906852, mse: 38.09870218243471, ame: 4.752100511437849\n"
     ]
    }
   ],
   "source": [
    "r2_graph = []\n",
    "mse_graph = []\n",
    "ame_graph = []\n",
    "cropped_df_train = X_train_scaled\n",
    "cropped_df_test = X_test_scaled\n",
    "\n",
    "for i in feature_weight.keys():\n",
    "    print(i)\n",
    "    cropped_df_train = cropped_df_train.drop(columns=i)\n",
    "    cropped_df_test = cropped_df_test.drop(columns=i)\n",
    "    #print(cropped_df_train.columns)\n",
    "    #print(cropped_df_test.columns)\n",
    "    lr.fit(cropped_df_train, y_train)\n",
    "    y_pred_cropped = lr.predict(cropped_df_test)\n",
    "    r2_graph.append(metrics.r2_score(y_test, y_pred_cropped))\n",
    "    mse_graph.append(metrics.mean_squared_error(y_test, y_pred_cropped))\n",
    "    ame_graph.append(metrics.mean_absolute_error(y_test, y_pred_cropped))\n",
    "    print(f'r2: {metrics.r2_score(y_test, y_pred_cropped)}, mse: {metrics.mean_squared_error(y_test, y_pred_cropped)}, ame: {metrics.mean_absolute_error(y_test, y_pred_cropped)}')\n",
    "    "
   ]
  },
  {
   "cell_type": "code",
   "execution_count": 28,
   "metadata": {},
   "outputs": [
    {
     "data": {
      "text/plain": [
       "Text(0.5, 1.0, 'ame')"
      ]
     },
     "execution_count": 28,
     "metadata": {},
     "output_type": "execute_result"
    },
    {
     "data": {
      "image/png": "[encoded data removed]",
      "text/plain": [
       "<Figure size 1080x648 with 3 Axes>"
      ]
     },
     "metadata": {
      "needs_background": "light"
     },
     "output_type": "display_data"
    }
   ],
   "source": [
    "plt.figure(figsize=(15, 9))\n",
    "\n",
    "plt.subplot(221)\n",
    "plt.plot(feature_weight.keys(), r2_graph)\n",
    "plt.title('r2')\n",
    "\n",
    "plt.subplot(222)\n",
    "plt.plot(feature_weight.keys(), mse_graph)\n",
    "plt.title('mse')\n",
    "\n",
    "plt.subplot(223)\n",
    "plt.plot(feature_weight.keys(), ame_graph)\n",
    "plt.title('ame')"
   ]
  },
  {
   "cell_type": "markdown",
   "metadata": {},
   "source": [
    "Видим, что если убрать AGE и INDUS то у $R^{2}$ получается пик, а у остальных - минимумы, что, видимо, является оптимальным вариантом, но также можно видеть, что если убрать фичи вплоть до CRIM, то там тоже своего рода минимум по ошибкам и небольшой максимум в $R^{2}$"
   ]
  },
  {
   "cell_type": "markdown",
   "metadata": {},
   "source": [
    "## Задание 2"
   ]
  },
  {
   "cell_type": "markdown",
   "metadata": {},
   "source": [
    "Задание 2\n",
    "Создайте модель под названием model с помощью RandomForestRegressor из модуля sklearn.ensemble.\n",
    "Сделайте агрумент n_estimators равным 1000,\n",
    "max_depth должен быть равен 12 и random_state сделайте равным 42."
   ]
  },
  {
   "cell_type": "code",
   "execution_count": 29,
   "metadata": {},
   "outputs": [],
   "source": [
    "from sklearn.ensemble import RandomForestRegressor"
   ]
  },
  {
   "cell_type": "code",
   "execution_count": 30,
   "metadata": {},
   "outputs": [],
   "source": [
    "model = RandomForestRegressor(n_estimators=1000, max_depth=12, random_state=42)"
   ]
  },
  {
   "cell_type": "markdown",
   "metadata": {},
   "source": [
    "Обучите модель на тренировочных данных аналогично тому, как вы обучали модель LinearRegression, но при этом в метод fit вместо датафрейма y_train поставьте y_train.values[:, 0], чтобы получить из датафрейма одномерный массив Numpy, так как для класса RandomForestRegressor в данном методе для аргумента y предпочтительно применение массивов вместо датафрейма."
   ]
  },
  {
   "cell_type": "code",
   "execution_count": 31,
   "metadata": {},
   "outputs": [],
   "source": [
    "y_train_forest = y_train.values[:, 0]"
   ]
  },
  {
   "cell_type": "code",
   "execution_count": 32,
   "metadata": {},
   "outputs": [
    {
     "data": {
      "text/plain": [
       "RandomForestRegressor(max_depth=12, n_estimators=1000, random_state=42)"
      ]
     },
     "execution_count": 32,
     "metadata": {},
     "output_type": "execute_result"
    }
   ],
   "source": [
    "model.fit(X_train_scaled, y_train_forest)"
   ]
  },
  {
   "cell_type": "markdown",
   "metadata": {},
   "source": [
    "Сделайте предсказание на тестовых данных и посчитайте R2. Сравните с результатом из предыдущего задания.\n",
    "Напишите в комментариях к коду, какая модель в данном случае работает лучше."
   ]
  },
  {
   "cell_type": "code",
   "execution_count": 33,
   "metadata": {},
   "outputs": [],
   "source": [
    "y_pred_forest = model.predict(X_test_scaled)"
   ]
  },
  {
   "cell_type": "code",
   "execution_count": 34,
   "metadata": {},
   "outputs": [
    {
     "data": {
      "text/plain": [
       "0.8745853339617797"
      ]
     },
     "execution_count": 34,
     "metadata": {},
     "output_type": "execute_result"
    }
   ],
   "source": [
    "metrics.r2_score(y_test, y_pred_forest)"
   ]
  },
  {
   "cell_type": "markdown",
   "metadata": {},
   "source": [
    "У леса коэффициент детерминации лучше, чем у линейной регрессии (у которой 0.714), что говорит о том, что эта модель лучше делает предсказание, чем линейная регрессия."
   ]
  },
  {
   "cell_type": "markdown",
   "metadata": {},
   "source": [
    "Теперь стало интересно, как будет влиять стандартизация данных на лес. Вверху вот лес учился на отскейленных данных, а ниже обучим его на не отскейленных данных"
   ]
  },
  {
   "cell_type": "code",
   "execution_count": 35,
   "metadata": {},
   "outputs": [
    {
     "data": {
      "text/plain": [
       "RandomForestRegressor(max_depth=12, n_estimators=1000, random_state=42)"
      ]
     },
     "execution_count": 35,
     "metadata": {},
     "output_type": "execute_result"
    }
   ],
   "source": [
    "model.fit(X_train, y_train_forest)"
   ]
  },
  {
   "cell_type": "code",
   "execution_count": 36,
   "metadata": {},
   "outputs": [],
   "source": [
    "y_pred_forest = model.predict(X_test)"
   ]
  },
  {
   "cell_type": "code",
   "execution_count": 37,
   "metadata": {},
   "outputs": [
    {
     "data": {
      "text/plain": [
       "0.87472606157312"
      ]
     },
     "execution_count": 37,
     "metadata": {},
     "output_type": "execute_result"
    }
   ],
   "source": [
    "metrics.r2_score(y_test, y_pred_forest)"
   ]
  },
  {
   "cell_type": "markdown",
   "metadata": {},
   "source": [
    "Было 0,87458 стало 0,87472 - можно даже сказать, что на 0,0001 стало лучше, но думаю, что это несущественно"
   ]
  },
  {
   "cell_type": "markdown",
   "metadata": {},
   "source": [
    "## Задание 3\n",
    "Вызовите документацию для класса RandomForestRegressor,<br>\n",
    "найдите информацию об атрибуте feature_importances_.<br>\n",
    "С помощью этого атрибута найдите сумму всех показателей важности,<br>\n",
    "установите, какие два признака показывают наибольшую важность.<br>\n"
   ]
  },
  {
   "cell_type": "markdown",
   "metadata": {},
   "source": [
    "А еще тут в задании указано посчитать сумму признаков, и на вебинаре вы говорили, что надо искать отношение конкретного веса фичи к сумме всех весов (по-моему, мне кажется, что такое было вроде, но щас не могу найти в ноутбуке, который к 7-му вебинару)"
   ]
  },
  {
   "cell_type": "code",
   "execution_count": 57,
   "metadata": {},
   "outputs": [
    {
     "data": {
      "text/plain": [
       "1.0"
      ]
     },
     "execution_count": 57,
     "metadata": {},
     "output_type": "execute_result"
    }
   ],
   "source": [
    "model.feature_importances_.sum()"
   ]
  },
  {
   "cell_type": "markdown",
   "metadata": {},
   "source": [
    "Но короче суммарный вес единица, поэтому искать $p_{i}/P$, где $p_{i}$ - вес i-го признака, а Р - суммарный вес, можно не искать короче"
   ]
  },
  {
   "cell_type": "markdown",
   "metadata": {},
   "source": [
    "Далее:"
   ]
  },
  {
   "cell_type": "markdown",
   "metadata": {},
   "source": [
    "сразу сделаем словарь с фичами и отсортим их по значимости.<br>\n",
    "что интересно - веса признаков у линейной регрессии и леса разные"
   ]
  },
  {
   "cell_type": "code",
   "execution_count": 38,
   "metadata": {},
   "outputs": [
    {
     "data": {
      "text/plain": [
       "{'CHAS': 0.0012362448947738866,\n",
       " 'ZN': 0.0015425166262328853,\n",
       " 'RAD': 0.00528121831288784,\n",
       " 'INDUS': 0.007138131415845556,\n",
       " 'TAX': 0.011524934553144586,\n",
       " 'B': 0.012450853014007696,\n",
       " 'NOX': 0.014268969875348304,\n",
       " 'AGE': 0.014298644996729816,\n",
       " 'PTRATIO': 0.018081076405025417,\n",
       " 'CRIM': 0.03167574073875602,\n",
       " 'DIS': 0.06397256527230023,\n",
       " 'RM': 0.4026817857034993,\n",
       " 'LSTAT': 0.4158473181914483}"
      ]
     },
     "execution_count": 38,
     "metadata": {},
     "output_type": "execute_result"
    }
   ],
   "source": [
    "my_dict = dict(zip(features, model.feature_importances_))\n",
    "feat_import = dict(sorted(my_dict.items(), key=lambda item: item[1]))\n",
    "feat_import"
   ]
  },
  {
   "cell_type": "markdown",
   "metadata": {},
   "source": [
    "Теперь уберем первые четыре маловесных признака (ну, можно было бы, как и в прошлый раз, убирать по одному, но мне лениво немного это делать) и переобучим модель леса"
   ]
  },
  {
   "cell_type": "code",
   "execution_count": 42,
   "metadata": {},
   "outputs": [],
   "source": [
    "test_forest_drop = X_test.drop(columns=['CHAS', 'ZN', 'RAD', 'INDUS'])\n",
    "train_forest_drop = X_train.drop(columns=['CHAS', 'ZN', 'RAD', 'INDUS'])"
   ]
  },
  {
   "cell_type": "code",
   "execution_count": 43,
   "metadata": {},
   "outputs": [
    {
     "data": {
      "text/plain": [
       "RandomForestRegressor(max_depth=12, n_estimators=1000, random_state=42)"
      ]
     },
     "execution_count": 43,
     "metadata": {},
     "output_type": "execute_result"
    }
   ],
   "source": [
    "model.fit(train_forest_drop, y_train_forest)"
   ]
  },
  {
   "cell_type": "code",
   "execution_count": 44,
   "metadata": {},
   "outputs": [],
   "source": [
    "pred_forest_drop = model.predict(test_forest_drop)"
   ]
  },
  {
   "cell_type": "code",
   "execution_count": 45,
   "metadata": {},
   "outputs": [
    {
     "data": {
      "text/plain": [
       "0.8754246210593307"
      ]
     },
     "execution_count": 45,
     "metadata": {},
     "output_type": "execute_result"
    }
   ],
   "source": [
    "metrics.r2_score(y_test, pred_forest_drop)"
   ]
  },
  {
   "cell_type": "markdown",
   "metadata": {},
   "source": [
    "Получили метрику, которая слегка выше (было 0,874), чем в случае с полным количеством фичей"
   ]
  },
  {
   "cell_type": "code",
   "execution_count": 61,
   "metadata": {},
   "outputs": [
    {
     "data": {
      "text/plain": [
       "Text(0.5, 1.0, 'linear regression')"
      ]
     },
     "execution_count": 61,
     "metadata": {},
     "output_type": "execute_result"
    },
    {
     "data": {
      "image/png": "[encoded data removed]",
      "text/plain": [
       "<Figure size 1080x432 with 2 Axes>"
      ]
     },
     "metadata": {
      "needs_background": "light"
     },
     "output_type": "display_data"
    }
   ],
   "source": [
    "plt.figure(figsize=(15, 6))\n",
    "\n",
    "plt.subplot(121)\n",
    "plt.scatter(pred_forest_drop, y_test)\n",
    "plt.plot([0, 50], [0, 50], linestyle='--', color='black')\n",
    "plt.title(\"random forest regressor without few features\")\n",
    "plt.xlabel('predicted values')\n",
    "plt.ylabel('real values')\n",
    "\n",
    "plt.subplot(122)\n",
    "plt.scatter(y_pred, y_test)\n",
    "plt.plot([0, 50], [0, 50], linestyle='--', color='black')\n",
    "plt.xlabel('predicted values')\n",
    "plt.ylabel('real values')\n",
    "plt.title('linear regression')"
   ]
  },
  {
   "cell_type": "markdown",
   "metadata": {},
   "source": [
    "Итого: лес с немного выпиленными фичами получше предсказывает, чем совсем сырая линейная регрессия"
   ]
  }
 ],
 "metadata": {
  "kernelspec": {
   "display_name": "Python 3",
   "language": "python",
   "name": "python3"
  },
  "language_info": {
   "codemirror_mode": {
    "name": "ipython",
    "version": 3
   },
   "file_extension": ".py",
   "mimetype": "text/x-python",
   "name": "python",
   "nbconvert_exporter": "python",
   "pygments_lexer": "ipython3",
   "version": "3.8.5"
  }
 },
 "nbformat": 4,
 "nbformat_minor": 4
}
